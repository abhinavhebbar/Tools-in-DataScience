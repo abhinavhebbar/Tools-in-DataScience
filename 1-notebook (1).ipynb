{
  "metadata": {
    "language_info": {
      "codemirror_mode": {
        "name": "python",
        "version": 3
      },
      "file_extension": ".py",
      "mimetype": "text/x-python",
      "name": "python",
      "nbconvert_exporter": "python",
      "pygments_lexer": "ipython3",
      "version": "3.8"
    },
    "kernelspec": {
      "name": "python",
      "display_name": "Python (Pyodide)",
      "language": "python"
    }
  },
  "nbformat_minor": 4,
  "nbformat": 4,
  "cells": [
    {
      "cell_type": "markdown",
      "source": "<H1>DataScience Tools and Ecosystem<h1>",
      "metadata": {}
    },
    {
      "cell_type": "markdown",
      "source": "in this notebook data science tools and ecosystems are summarized",
      "metadata": {}
    },
    {
      "cell_type": "markdown",
      "source": "#These are the ds languages<br>\n1-Python<br>\n2-R<br>\n3-Java<br>\n4-Julia<br>\n5-Scala<br>\n6-SQL<br>\n7-MATLAB<br>",
      "metadata": {}
    },
    {
      "cell_type": "markdown",
      "source": "#This are some of the ds libraries<br>\n1-Numpy<br>\n2-Pandas<br>\n3-Matplotlib<br>\n4-KEras<br>\n5-SciPy<br>\n7-ggplot2<br>",
      "metadata": {}
    },
    {
      "cell_type": "markdown",
      "source": "|No. | These are some of the ds tools | \n|:----:|:--------------------------------:|\n| 1- | Jupyter notebook |\n| 2- |RStudio |\n| 3- |Apache Flink |\n| 4- |PyCharm |",
      "metadata": {}
    },
    {
      "cell_type": "markdown",
      "source": "<h3>These are some arithmatic expressions</h3><br>\n1)2.5-6<br>\n2)67*6<br>\n",
      "metadata": {}
    },
    {
      "cell_type": "code",
      "source": "#This is a simple arithmetic expression to multiply and then add integers\n(3*4)+5",
      "metadata": {
        "trusted": true
      },
      "execution_count": 4,
      "outputs": [
        {
          "execution_count": 4,
          "output_type": "execute_result",
          "data": {
            "text/plain": "17"
          },
          "metadata": {}
        }
      ]
    },
    {
      "cell_type": "code",
      "source": "#This will convert 200 minutes to hours\n(200/60)",
      "metadata": {
        "trusted": true
      },
      "execution_count": 5,
      "outputs": [
        {
          "execution_count": 5,
          "output_type": "execute_result",
          "data": {
            "text/plain": "3.3333333333333335"
          },
          "metadata": {}
        }
      ]
    },
    {
      "cell_type": "markdown",
      "source": "<b>These are some objectives</b><br>\n1)Popular languages for Data Science<br>\n2)COmmon Libraries<br>\n3)Arithmetic operations<br>",
      "metadata": {}
    },
    {
      "cell_type": "markdown",
      "source": "<H2>Author's name:</H2>\nAbhinav Hebbar",
      "metadata": {}
    },
    {
      "cell_type": "code",
      "source": "",
      "metadata": {},
      "execution_count": null,
      "outputs": []
    },
    {
      "cell_type": "code",
      "source": "",
      "metadata": {},
      "execution_count": null,
      "outputs": []
    }
  ]
}