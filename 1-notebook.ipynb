{
  "metadata": {
    "language_info": {
      "codemirror_mode": {
        "name": "python",
        "version": 3
      },
      "file_extension": ".py",
      "mimetype": "text/x-python",
      "name": "python",
      "nbconvert_exporter": "python",
      "pygments_lexer": "ipython3",
      "version": "3.8"
    },
    "kernelspec": {
      "name": "python",
      "display_name": "Python (Pyodide)",
      "language": "python"
    }
  },
  "nbformat_minor": 4,
  "nbformat": 4,
  "cells": [
    {
      "cell_type": "markdown",
      "source": "#Title",
      "metadata": {}
    },
    {
      "cell_type": "markdown",
      "source": "#This is an introduction",
      "metadata": {}
    },
    {
      "cell_type": "markdown",
      "source": "#These are the ds languages<br>\n1-Python<br>\n2-R<br>\n3-Java<br>\n4-Julia<br>\n5-Scala<br>\n6-SQL<br>\n7-MATLAB<br>",
      "metadata": {}
    },
    {
      "cell_type": "markdown",
      "source": "#This are some of the ds libraries<br>\n1-Numpy<br>\n2-Pandas<br>\n3-Matplotlib<br>\n4-KEras<br>\n5-SciPy<br>\n7-ggplot2<br>",
      "metadata": {}
    },
    {
      "cell_type": "markdown",
      "source": "#These are some of the ds tools<br>\n1-Jupyter notebook<br>\n2-RStudio<br>\n3-Apache Flink<br>\n4-PyCharm<br>",
      "metadata": {}
    },
    {
      "cell_type": "markdown",
      "source": "#These are some arithmatic expressions<br>\n1)2.5-6<br>\n2)67*6<br>\n",
      "metadata": {}
    },
    {
      "cell_type": "code",
      "source": "a=3\nb=2\nc=a*b\nprint(c)",
      "metadata": {
        "trusted": true
      },
      "execution_count": 1,
      "outputs": [
        {
          "name": "stdout",
          "text": "6\n",
          "output_type": "stream"
        }
      ]
    },
    {
      "cell_type": "code",
      "source": "x=10\ny=20\nz=x+y\nprint(z)",
      "metadata": {
        "trusted": true
      },
      "execution_count": 3,
      "outputs": [
        {
          "name": "stdout",
          "text": "30\n",
          "output_type": "stream"
        }
      ]
    },
    {
      "cell_type": "markdown",
      "source": "#These are some objectives<br>\n1)objective 1<br>\n2)objective 2<br>\n3)objective 3<br>",
      "metadata": {}
    },
    {
      "cell_type": "markdown",
      "source": "#Author's name:<br>\nAbhinav Hebbar",
      "metadata": {}
    },
    {
      "cell_type": "code",
      "source": "",
      "metadata": {},
      "execution_count": null,
      "outputs": []
    }
  ]
}